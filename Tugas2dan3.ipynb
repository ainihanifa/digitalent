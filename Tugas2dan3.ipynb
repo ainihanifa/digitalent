{
 "cells": [
  {
   "cell_type": "markdown",
   "metadata": {},
   "source": [
    "## Tugas 2 dan 3\n",
    "**Aini Hanifa** <br>\n",
    "_Big Data Kelas B_"
   ]
  },
  {
   "cell_type": "markdown",
   "metadata": {},
   "source": [
    "### List Nilai\n",
    "Diberikan sekumpulan Nilai Random antara 1 sampai dengan 100 sebanyak 250 nilai. Buatlah program untuk melakukan hal berikut:\n",
    "\n",
    "    1. Tampilkan Angka Ganjil dari ke 250 nilai tersebut\n",
    "    2. Tampilkan berapa banyak yang mendapatkan nilai lebih dari 70\n",
    "    3. Tampilkan standar deviasi dari sekumpulan nilai tersebut\n",
    "    4. Tampilkan nilai maksimum dan minimum\n",
    "    5. Tampilkan modus dari sekumpulan nilai tersebut"
   ]
  },
  {
   "cell_type": "markdown",
   "metadata": {},
   "source": [
    "**Nilai Random antara 1 sampai dengan 100 sebanyak 250 nilai**"
   ]
  },
  {
   "cell_type": "code",
   "execution_count": 1,
   "metadata": {
    "collapsed": false
   },
   "outputs": [
    {
     "name": "stdout",
     "output_type": "stream",
     "text": [
      "[74, 86, 9, 89, 22, 43, 22, 50, 92, 32, 79, 90, 24, 57, 32, 4, 31, 25, 59, 58, 75, 36, 17, 45, 60, 8, 35, 88, 33, 79, 34, 17, 93, 70, 91, 11, 59, 82, 75, 66, 46, 85, 50, 39, 68, 65, 21, 51, 44, 22, 27, 28, 22, 20, 55, 70, 62, 18, 7, 43, 49, 76, 91, 80, 99, 68, 83, 44, 3, 93, 93, 94, 78, 82, 57, 16, 53, 13, 67, 90, 87, 75, 32, 29, 68, 60, 77, 33, 56, 15, 68, 55, 4, 67, 22, 10, 74, 96, 43, 64, 1, 5, 70, 12, 52, 21, 13, 49, 50, 9, 88, 83, 99, 40, 88, 27, 43, 94, 42, 44, 52, 53, 10, 98, 62, 42, 1, 51, 40, 78, 18, 79, 40, 59, 2, 16, 48, 60, 53, 64, 20, 47, 29, 43, 75, 37, 7, 88, 87, 46, 1, 69, 93, 71, 22, 33, 9, 97, 24, 75, 15, 75, 51, 55, 96, 12, 2, 28, 64, 51, 28, 58, 6, 24, 13, 20, 95, 64, 44, 36, 78, 44, 23, 43, 51, 14, 99, 63, 69, 72, 22, 42, 50, 40, 27, 54, 21, 64, 54, 81, 20, 16, 93, 54, 2, 21, 6, 88, 63, 76, 8, 23, 7, 76, 55, 90, 26, 86, 52, 59, 28, 38, 3, 46, 90, 98, 12, 1, 87, 97, 43, 82, 23, 62, 85, 17, 36, 86, 99, 97, 4, 54, 45, 65, 87, 46, 45, 98, 67, 35]\n"
     ]
    }
   ],
   "source": [
    "import random\n",
    "\n",
    "# GENERATE RANDOM\n",
    "nilaiTugas = []\n",
    "for i in range(250):\n",
    "    nilaiTugas.append(random.randrange(1,100,1))\n",
    "\n",
    "print(nilaiTugas)"
   ]
  },
  {
   "cell_type": "markdown",
   "metadata": {},
   "source": [
    "**Angka Ganjil dari ke 250 nilai tersebut**"
   ]
  },
  {
   "cell_type": "code",
   "execution_count": 4,
   "metadata": {
    "collapsed": false
   },
   "outputs": [
    {
     "name": "stdout",
     "output_type": "stream",
     "text": [
      "Nilai ganjil : [9, 89, 43, 79, 57, 31, 25, 59, 75, 17, 45, 35, 33, 79, 17, 93, 91, 11, 59, 75, 85, 39, 65, 21, 51, 27, 55, 7, 43, 49, 91, 99, 83, 3, 93, 93, 57, 53, 13, 67, 87, 75, 29, 77, 33, 15, 55, 67, 43, 1, 5, 21, 13, 49, 9, 83, 99, 27, 43, 53, 1, 51, 79, 59, 53, 47, 29, 43, 75, 37, 7, 87, 1, 69, 93, 71, 33, 9, 97, 75, 15, 75, 51, 55, 51, 13, 95, 23, 43, 51, 99, 63, 69, 27, 21, 81, 93, 21, 63, 23, 7, 55, 59, 3, 1, 87, 97, 43, 23, 85, 17, 99, 97, 45, 65, 87, 45, 67, 35]\n"
     ]
    }
   ],
   "source": [
    "ganjil=[]\n",
    "for i in nilaiTugas:\n",
    "    if i % 2 ==1:\n",
    "        ganjil.append(i)\n",
    "print (\"Nilai ganjil :\", ganjil)"
   ]
  },
  {
   "cell_type": "markdown",
   "metadata": {},
   "source": [
    "**Banyak siswa yang mendapatkan nilai lebih dari 70**"
   ]
  },
  {
   "cell_type": "code",
   "execution_count": 3,
   "metadata": {
    "collapsed": false
   },
   "outputs": [
    {
     "name": "stdout",
     "output_type": "stream",
     "text": [
      "Jumlah siswa dengan nilai diatas 70 : 69\n"
     ]
    }
   ],
   "source": [
    "lulus=0\n",
    "for i in nilaiTugas:\n",
    "    if i>70:\n",
    "        lulus=lulus+1\n",
    "print(\"Jumlah siswa dengan nilai diatas 70 :\",lulus)"
   ]
  },
  {
   "cell_type": "markdown",
   "metadata": {},
   "source": [
    "**Standar deviasi**"
   ]
  },
  {
   "cell_type": "code",
   "execution_count": 7,
   "metadata": {
    "collapsed": false
   },
   "outputs": [
    {
     "name": "stdout",
     "output_type": "stream",
     "text": [
      "Standar Deviasi : 28.57067921564647\n"
     ]
    }
   ],
   "source": [
    "# fungsi standar deviasi\n",
    "def standard_deviation(lst):\n",
    "    jumlah_item = len(lst)\n",
    "    mean = sum(lst) / jumlah_item\n",
    "    selisih = [x - mean for x in lst]\n",
    "    kuadrat_selisih = [d ** 2 for d in selisih]\n",
    "    ssd = sum(kuadrat_selisih)\n",
    "    variance = ssd / (jumlah_item - 1)\n",
    "    sd = variance**(1.0/2)\n",
    "    print(\"Standar Deviasi :\",sd)\n",
    "standard_deviation(nilaiTugas)"
   ]
  },
  {
   "cell_type": "markdown",
   "metadata": {},
   "source": [
    "**Nilai maksimum dan minimum**"
   ]
  },
  {
   "cell_type": "code",
   "execution_count": 11,
   "metadata": {
    "collapsed": false
   },
   "outputs": [
    {
     "name": "stdout",
     "output_type": "stream",
     "text": [
      "Nilai Tertinggi : 99\n",
      "Nilai Terendah : 1\n"
     ]
    }
   ],
   "source": [
    "#sorting list\n",
    "Nilai_sorted = sorted(nilaiTugas)\n",
    "# print(Nilai_sorted)\n",
    "#Nilai maksimum\n",
    "print(\"Nilai Tertinggi :\",Nilai_sorted[-1])\n",
    "#Nilai Minimum\n",
    "print(\"Nilai Terendah :\",Nilai_sorted[0])"
   ]
  },
  {
   "cell_type": "markdown",
   "metadata": {},
   "source": [
    "**Modus**"
   ]
  },
  {
   "cell_type": "code",
   "execution_count": 14,
   "metadata": {
    "collapsed": false
   },
   "outputs": [
    {
     "name": "stdout",
     "output_type": "stream",
     "text": [
      "Modus : 22\n"
     ]
    }
   ],
   "source": [
    "#fungsi mode\n",
    "def modus(lst):\n",
    "    sort_list = sorted(lst)\n",
    "    dict1 = {}\n",
    "    for i in sort_list:        \n",
    "            count = sort_list.count(i)\n",
    "            if i not in dict1.keys():\n",
    "                dict1[i] = count\n",
    "\n",
    "    maximum = 0 #jumlah kemunculan\n",
    "    max_key = -1 #elemen yang memiliki kemunculan tersering\n",
    "\n",
    "    for key in dict1:\n",
    "        if(dict1[key]>maximum):\n",
    "            maximum = dict1[key]\n",
    "            max_key = key \n",
    "        elif(dict1[key]==maximum):\n",
    "            if(key<max_key):\n",
    "                maximum = dict1[key]\n",
    "                max_key = key\n",
    "    return max_key\n",
    "\n",
    "print(\"Modus :\",modus(nilaiTugas))"
   ]
  },
  {
   "cell_type": "markdown",
   "metadata": {},
   "source": [
    "### Word Count\n",
    "\n",
    "Diberikan sebuah paragraf, hitunglah banyak kemunculan masing-masing kata"
   ]
  },
  {
   "cell_type": "code",
   "execution_count": 24,
   "metadata": {
    "collapsed": false
   },
   "outputs": [
    {
     "name": "stdout",
     "output_type": "stream",
     "text": [
      "Tuliskan paragraf: \n",
      "Barcelona berhasil merebut posisi puncak klasemen La Liga Spanyol seusai menang 4-2 atas Sevilla pada pertandingan pekan kesembilan di Stadion Camp Nou, Sabtu (20/10/2018) atau Minggu dini hari WIB. Barcelona membuka keunggulan pada menit ke-2 melalui gol yang dicetak oleh Philippe Coutinho. Lionel Messi menggandakan keunggulan Barcelona, 10 menit berselang.  Namun, nahas bagi Barcelona, karena Messi harus ditarik keluar pada menit ke-26 setelah mengalami cedera. Tanpa Messi, skor 2-0 bertahan hingga babak pertama berakhir.\n",
      "\n",
      "Banyaknya kemunculan masing-masing Kata :\n",
      "\n",
      "pertama : 1\n",
      "gol : 1\n",
      "menit : 3\n",
      "10 : 2\n",
      "keunggulan : 2\n",
      "liga : 1\n",
      "berhasil : 1\n",
      "kesembilan : 1\n",
      "stadion : 1\n",
      "wib : 1\n",
      "pertandingan : 1\n",
      "membuka : 1\n",
      "dicetak : 1\n",
      "lionel : 1\n",
      "bertahan : 1\n",
      "4 : 1\n",
      "tanpa : 1\n",
      "setelah : 1\n",
      "klasemen : 1\n",
      "20 : 1\n",
      "26 : 1\n",
      "2 : 3\n",
      "hingga : 1\n",
      "berselang : 1\n",
      "menggandakan : 1\n",
      "barcelona : 4\n",
      "hari : 1\n",
      "puncak : 1\n",
      "minggu : 1\n",
      "sevilla : 1\n",
      "atas : 1\n",
      "yang : 1\n",
      "ditarik : 1\n",
      "namun : 1\n",
      "philippe : 1\n",
      "bagi : 1\n",
      "mengalami : 1\n",
      "pada : 3\n",
      "camp : 1\n",
      "ke : 2\n",
      "sabtu : 1\n",
      "seusai : 1\n",
      "cedera : 1\n",
      "messi : 3\n",
      "skor : 1\n",
      "0 : 1\n",
      "harus : 1\n",
      "di : 1\n",
      "menang : 1\n",
      "nou : 1\n",
      "pekan : 1\n",
      "2018 : 1\n",
      "oleh : 1\n",
      "posisi : 1\n",
      "berakhir : 1\n",
      "babak : 1\n",
      "merebut : 1\n",
      "coutinho : 1\n",
      "karena : 1\n",
      "dini : 1\n",
      "keluar : 1\n",
      "melalui : 1\n",
      "nahas : 1\n",
      "la : 1\n",
      "atau : 1\n",
      "spanyol : 1\n"
     ]
    }
   ],
   "source": [
    "#input paragraf\n",
    "paragraf=input(\"Tuliskan paragraf: \\n\")\n",
    "#merubah seluruh text menjadi lower case\n",
    "hurufkecil=paragraf.lower() \n",
    "#menghilangkan stop word\n",
    "stopword=\".,-/()\"\n",
    "for char in stopword:\n",
    "    hurufkecil=hurufkecil.replace(char,\" \")\n",
    "#split per kata (pemisah spasi)\n",
    "kata=hurufkecil.split()\n",
    "#hitung kemunculan kata dengan dictionary\n",
    "dict = {}\n",
    "for i in kata:\n",
    "    if i in dict:\n",
    "        dict[i]= dict[i]+1\n",
    "    else:\n",
    "        dict[i] = 1\n",
    "#print per baris\n",
    "print(\"\\nBanyaknya kemunculan masing-masing Kata :\\n\")\n",
    "for key,val in dict.items():\n",
    "    print (key, \":\", val)"
   ]
  },
  {
   "cell_type": "code",
   "execution_count": null,
   "metadata": {
    "collapsed": true
   },
   "outputs": [],
   "source": []
  }
 ],
 "metadata": {
  "anaconda-cloud": {},
  "kernelspec": {
   "display_name": "Python [default]",
   "language": "python",
   "name": "python3"
  },
  "language_info": {
   "codemirror_mode": {
    "name": "ipython",
    "version": 3
   },
   "file_extension": ".py",
   "mimetype": "text/x-python",
   "name": "python",
   "nbconvert_exporter": "python",
   "pygments_lexer": "ipython3",
   "version": "3.5.2"
  }
 },
 "nbformat": 4,
 "nbformat_minor": 1
}
