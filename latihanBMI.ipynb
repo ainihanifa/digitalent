{
 "cells": [
  {
   "cell_type": "markdown",
   "metadata": {},
   "source": [
    "# LATIHAN 1"
   ]
  },
  {
   "cell_type": "markdown",
   "metadata": {},
   "source": [
    "**Aini Hanifa** <br>\n",
    "_Kelas Big Data B_"
   ]
  },
  {
   "cell_type": "markdown",
   "metadata": {},
   "source": [
    "Body Mass Index (BMI) menentukan sebuah keidealan berat badan terhadap tinggi badan. Berikut adalah formula dari BMI : BMI = weight (kg) ÷ height^2 (m^2). Berikut adalah kategorisasi BMI\n",
    "\n",
    "| BMI | Kategori BMI | \n",
    "| --- | --- | \n",
    "| Kurang dari 15 | \tVery severely underweight | \n",
    "| Diantara 15 dan 16 | Severely underweight |\n",
    "| Diantara 16 dan 18.5 | Underweight |\n",
    "| Diantara 18.5 dan 25 | Normal (healthy weight) |\n",
    "| Diantara 25 dan 30 | Overweight |\n",
    "| Diantara 30 dan 35 | Moderately obese |\n",
    "| Diantara 35 dan 40 | Severely obese |\n",
    "| Over 40 | Very severely obese |"
   ]
  },
  {
   "cell_type": "code",
   "execution_count": 1,
   "metadata": {
    "collapsed": false
   },
   "outputs": [
    {
     "name": "stdout",
     "output_type": "stream",
     "text": [
      "Weight (kg): 55\n",
      "Height (cm): 165\n",
      "Body Mass Index:  20.202020202020204\n",
      "Kategori BMI: \n",
      "Normal (healthy weight)\n"
     ]
    }
   ],
   "source": [
    "Weight = float(input(\"Weight (kg): \")) #kg\n",
    "Height = float(input(\"Height (cm): \")) #centimeter\n",
    "Heightinm=Height/100 #konversi satuan height ke meter\n",
    "BMI=Weight/(Heightinm**2)\n",
    "\n",
    "print (\"Body Mass Index: \",BMI)\n",
    "print (\"Kategori BMI: \")\n",
    "if BMI < 15:\n",
    "    print(\"Very severely underweight\")\n",
    "elif BMI >=15 and BMI<16:\n",
    "    print (\"Severely underweight\")\n",
    "elif BMI >=16 and BMI<18.5:\n",
    "    print (\"Underweight\")\n",
    "elif BMI >=18.5 and BMI<25:\n",
    "    print (\"Normal (healthy weight)\")\n",
    "elif BMI >=25 and BMI<30:\n",
    "    print (\"Overweight\")\n",
    "elif BMI >=30 and BMI<35:\n",
    "    print (\"Moderately obese\")\n",
    "elif BMI >=35 and BMI<40:\n",
    "    print (\"Severely obese\")\n",
    "else:\n",
    "    print (\"Very severely obese\")"
   ]
  }
 ],
 "metadata": {
  "anaconda-cloud": {},
  "kernelspec": {
   "display_name": "Python [default]",
   "language": "python",
   "name": "python3"
  },
  "language_info": {
   "codemirror_mode": {
    "name": "ipython",
    "version": 3
   },
   "file_extension": ".py",
   "mimetype": "text/x-python",
   "name": "python",
   "nbconvert_exporter": "python",
   "pygments_lexer": "ipython3",
   "version": "3.5.2"
  }
 },
 "nbformat": 4,
 "nbformat_minor": 1
}
